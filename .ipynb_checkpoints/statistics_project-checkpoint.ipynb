{
 "cells": [
  {
   "cell_type": "markdown",
   "id": "e2faed8b-c34d-4e86-a5e5-3ce6b63cfd2f",
   "metadata": {},
   "source": [
    "# פרוייקט סטטיסטיקה\n",
    "## רויטל יוסופוב - 322355264"
   ]
  },
  {
   "cell_type": "code",
   "execution_count": 1,
   "id": "b153a3d2-a990-4ce6-ab75-a558ef870a98",
   "metadata": {},
   "outputs": [],
   "source": [
    "import pandas as pd\n",
    "import numpy as np\n",
    "\n",
    "import matplotlib.pyplot as plt\n",
    "import seaborn as sns\n",
    "sns.set_style('darkgrid')"
   ]
  },
  {
   "cell_type": "code",
   "execution_count": 2,
   "id": "aee19936-b6e5-4b25-81e3-3b4fd4206400",
   "metadata": {},
   "outputs": [
    {
     "data": {
      "text/html": [
       "<div>\n",
       "<style scoped>\n",
       "    .dataframe tbody tr th:only-of-type {\n",
       "        vertical-align: middle;\n",
       "    }\n",
       "\n",
       "    .dataframe tbody tr th {\n",
       "        vertical-align: top;\n",
       "    }\n",
       "\n",
       "    .dataframe thead th {\n",
       "        text-align: right;\n",
       "    }\n",
       "</style>\n",
       "<table border=\"1\" class=\"dataframe\">\n",
       "  <thead>\n",
       "    <tr style=\"text-align: right;\">\n",
       "      <th></th>\n",
       "      <th>credit.policy</th>\n",
       "      <th>purpose</th>\n",
       "      <th>int.rate</th>\n",
       "      <th>installment</th>\n",
       "      <th>log.annual.inc</th>\n",
       "      <th>dti</th>\n",
       "      <th>fico</th>\n",
       "      <th>days.with.cr.line</th>\n",
       "      <th>revol.bal</th>\n",
       "      <th>revol.util</th>\n",
       "      <th>inq.last.6mths</th>\n",
       "      <th>delinq.2yrs</th>\n",
       "      <th>pub.rec</th>\n",
       "      <th>not.fully.paid</th>\n",
       "      <th>gender</th>\n",
       "      <th>region</th>\n",
       "    </tr>\n",
       "  </thead>\n",
       "  <tbody>\n",
       "    <tr>\n",
       "      <th>0</th>\n",
       "      <td>1</td>\n",
       "      <td>all_other</td>\n",
       "      <td>0.1253</td>\n",
       "      <td>83.67</td>\n",
       "      <td>9.761463</td>\n",
       "      <td>16.32</td>\n",
       "      <td>692</td>\n",
       "      <td>7320.000000</td>\n",
       "      <td>1245</td>\n",
       "      <td>31.1</td>\n",
       "      <td>0</td>\n",
       "      <td>0</td>\n",
       "      <td>0</td>\n",
       "      <td>0</td>\n",
       "      <td>female</td>\n",
       "      <td>Center</td>\n",
       "    </tr>\n",
       "    <tr>\n",
       "      <th>1</th>\n",
       "      <td>1</td>\n",
       "      <td>debt_consolidation</td>\n",
       "      <td>0.1496</td>\n",
       "      <td>692.90</td>\n",
       "      <td>10.896739</td>\n",
       "      <td>11.78</td>\n",
       "      <td>682</td>\n",
       "      <td>1709.958333</td>\n",
       "      <td>25216</td>\n",
       "      <td>59.9</td>\n",
       "      <td>1</td>\n",
       "      <td>0</td>\n",
       "      <td>0</td>\n",
       "      <td>0</td>\n",
       "      <td>male</td>\n",
       "      <td>Center</td>\n",
       "    </tr>\n",
       "    <tr>\n",
       "      <th>2</th>\n",
       "      <td>1</td>\n",
       "      <td>home_improvement</td>\n",
       "      <td>0.1218</td>\n",
       "      <td>499.50</td>\n",
       "      <td>12.075394</td>\n",
       "      <td>10.19</td>\n",
       "      <td>717</td>\n",
       "      <td>3840.000000</td>\n",
       "      <td>19315</td>\n",
       "      <td>72.1</td>\n",
       "      <td>2</td>\n",
       "      <td>0</td>\n",
       "      <td>0</td>\n",
       "      <td>0</td>\n",
       "      <td>male</td>\n",
       "      <td>Center</td>\n",
       "    </tr>\n",
       "    <tr>\n",
       "      <th>3</th>\n",
       "      <td>1</td>\n",
       "      <td>major_purchase</td>\n",
       "      <td>0.1253</td>\n",
       "      <td>87.02</td>\n",
       "      <td>10.616241</td>\n",
       "      <td>13.54</td>\n",
       "      <td>687</td>\n",
       "      <td>2159.958333</td>\n",
       "      <td>9847</td>\n",
       "      <td>24.1</td>\n",
       "      <td>1</td>\n",
       "      <td>0</td>\n",
       "      <td>0</td>\n",
       "      <td>0</td>\n",
       "      <td>female</td>\n",
       "      <td>East</td>\n",
       "    </tr>\n",
       "    <tr>\n",
       "      <th>4</th>\n",
       "      <td>1</td>\n",
       "      <td>educational</td>\n",
       "      <td>0.0894</td>\n",
       "      <td>158.86</td>\n",
       "      <td>9.729134</td>\n",
       "      <td>14.93</td>\n",
       "      <td>732</td>\n",
       "      <td>3569.958333</td>\n",
       "      <td>6109</td>\n",
       "      <td>43.9</td>\n",
       "      <td>1</td>\n",
       "      <td>0</td>\n",
       "      <td>0</td>\n",
       "      <td>0</td>\n",
       "      <td>female</td>\n",
       "      <td>South</td>\n",
       "    </tr>\n",
       "  </tbody>\n",
       "</table>\n",
       "</div>"
      ],
      "text/plain": [
       "   credit.policy             purpose  int.rate  installment  log.annual.inc  \\\n",
       "0              1           all_other    0.1253        83.67        9.761463   \n",
       "1              1  debt_consolidation    0.1496       692.90       10.896739   \n",
       "2              1    home_improvement    0.1218       499.50       12.075394   \n",
       "3              1      major_purchase    0.1253        87.02       10.616241   \n",
       "4              1         educational    0.0894       158.86        9.729134   \n",
       "\n",
       "     dti  fico  days.with.cr.line  revol.bal  revol.util  inq.last.6mths  \\\n",
       "0  16.32   692        7320.000000       1245        31.1               0   \n",
       "1  11.78   682        1709.958333      25216        59.9               1   \n",
       "2  10.19   717        3840.000000      19315        72.1               2   \n",
       "3  13.54   687        2159.958333       9847        24.1               1   \n",
       "4  14.93   732        3569.958333       6109        43.9               1   \n",
       "\n",
       "   delinq.2yrs  pub.rec  not.fully.paid  gender  region  \n",
       "0            0        0               0  female  Center  \n",
       "1            0        0               0    male  Center  \n",
       "2            0        0               0    male  Center  \n",
       "3            0        0               0  female    East  \n",
       "4            0        0               0  female   South  "
      ]
     },
     "execution_count": 2,
     "metadata": {},
     "output_type": "execute_result"
    }
   ],
   "source": [
    "data = pd.read_csv('loan_data2.csv')\n",
    "data.head()"
   ]
  },
  {
   "cell_type": "code",
   "execution_count": 3,
   "id": "0180ccd0-fd76-44ba-9324-4e1dd73e5c1c",
   "metadata": {},
   "outputs": [
    {
     "name": "stdout",
     "output_type": "stream",
     "text": [
      "<class 'pandas.core.frame.DataFrame'>\n",
      "RangeIndex: 4011 entries, 0 to 4010\n",
      "Data columns (total 16 columns):\n",
      " #   Column             Non-Null Count  Dtype  \n",
      "---  ------             --------------  -----  \n",
      " 0   credit.policy      4011 non-null   int64  \n",
      " 1   purpose            4011 non-null   object \n",
      " 2   int.rate           4011 non-null   float64\n",
      " 3   installment        4011 non-null   float64\n",
      " 4   log.annual.inc     4011 non-null   float64\n",
      " 5   dti                4011 non-null   float64\n",
      " 6   fico               4011 non-null   int64  \n",
      " 7   days.with.cr.line  4011 non-null   float64\n",
      " 8   revol.bal          4011 non-null   int64  \n",
      " 9   revol.util         4011 non-null   float64\n",
      " 10  inq.last.6mths     4011 non-null   int64  \n",
      " 11  delinq.2yrs        4011 non-null   int64  \n",
      " 12  pub.rec            4011 non-null   int64  \n",
      " 13  not.fully.paid     4011 non-null   int64  \n",
      " 14  gender             4011 non-null   object \n",
      " 15  region             4011 non-null   object \n",
      "dtypes: float64(6), int64(7), object(3)\n",
      "memory usage: 501.5+ KB\n"
     ]
    }
   ],
   "source": [
    "data.info()"
   ]
  },
  {
   "cell_type": "markdown",
   "id": "73a15656-a20e-4fea-bdd9-02641909aa7e",
   "metadata": {},
   "source": [
    "## שאלה 1\n",
    "### עבור המשתנה log.annual.inc"
   ]
  },
  {
   "cell_type": "markdown",
   "id": "e086f9e1-aaad-4105-9b86-e4076ecc7853",
   "metadata": {},
   "source": [
    "log.annual.inc - הכנסה שנתית בדיווח עצמי של הלווה\n",
    "\n",
    "זהו משתנה כמותי רציף"
   ]
  },
  {
   "cell_type": "markdown",
   "id": "4937e822-511a-417f-be6c-658e6d25f119",
   "metadata": {},
   "source": [
    "####  תרשים לתיאור המשתנה "
   ]
  },
  {
   "cell_type": "code",
   "execution_count": 4,
   "id": "3fadb0a2-60d7-4a85-bf99-cb697da2c4a4",
   "metadata": {},
   "outputs": [
    {
     "data": {
      "image/png": "[encoded data removed]",
      "text/plain": [
       "<Figure size 800x600 with 1 Axes>"
      ]
     },
     "metadata": {},
     "output_type": "display_data"
    }
   ],
   "source": [
    "# היסטוגרמה של log.annual.inc\n",
    "plt.figure(figsize=(8, 6))\n",
    "plt.hist(data['log.annual.inc'], bins=10, edgecolor='black')\n",
    "plt.title('Histogram of log.annual.inc')\n",
    "plt.xlabel('log.annual.inc')\n",
    "plt.ylabel('Frequency')\n",
    "plt.grid(True)\n",
    "\n",
    "# הצגת התרשים\n",
    "plt.show()"
   ]
  },
  {
   "cell_type": "markdown",
   "id": "ec31cfa3-3ad9-44ad-a359-45cff68ffb82",
   "metadata": {},
   "source": [
    "#### חישוב המדדים הסטטיסטיים  "
   ]
  },
  {
   "cell_type": "code",
   "execution_count": 5,
   "id": "05f92cf3-6b9b-4c61-b8c9-8da4dd47747b",
   "metadata": {},
   "outputs": [
    {
     "data": {
      "text/plain": [
       "count    4011.000000\n",
       "mean       10.927696\n",
       "std         0.670065\n",
       "min         7.547502\n",
       "25%        10.518673\n",
       "50%        10.915088\n",
       "75%        11.338572\n",
       "max        14.180154\n",
       "Name: log.annual.inc, dtype: float64"
      ]
     },
     "execution_count": 5,
     "metadata": {},
     "output_type": "execute_result"
    }
   ],
   "source": [
    "data['log.annual.inc'].describe()"
   ]
  },
  {
   "cell_type": "code",
   "execution_count": 6,
   "id": "c7e6e754-36e1-48ed-8626-f7dbccdf04f6",
   "metadata": {},
   "outputs": [
    {
     "data": {
      "text/plain": [
       "10.91508846"
      ]
     },
     "execution_count": 6,
     "metadata": {},
     "output_type": "execute_result"
    }
   ],
   "source": [
    "data['log.annual.inc'].median() # חציון\n",
    "# std: סטיית תקן"
   ]
  },
  {
   "cell_type": "markdown",
   "id": "22739c12-6130-4316-a3cb-62aa9c09225b",
   "metadata": {},
   "source": [
    "####  טבלת שכיחויות"
   ]
  },
  {
   "cell_type": "code",
   "execution_count": 7,
   "id": "30ca2818-9e91-4529-ad99-61bdf6193164",
   "metadata": {},
   "outputs": [
    {
     "data": {
      "text/html": [
       "<div>\n",
       "<style scoped>\n",
       "    .dataframe tbody tr th:only-of-type {\n",
       "        vertical-align: middle;\n",
       "    }\n",
       "\n",
       "    .dataframe tbody tr th {\n",
       "        vertical-align: top;\n",
       "    }\n",
       "\n",
       "    .dataframe thead th {\n",
       "        text-align: right;\n",
       "    }\n",
       "</style>\n",
       "<table border=\"1\" class=\"dataframe\">\n",
       "  <thead>\n",
       "    <tr style=\"text-align: right;\">\n",
       "      <th></th>\n",
       "      <th>Range</th>\n",
       "      <th>f</th>\n",
       "      <th>F</th>\n",
       "    </tr>\n",
       "  </thead>\n",
       "  <tbody>\n",
       "    <tr>\n",
       "      <th>0</th>\n",
       "      <td>(7.541, 8.211]</td>\n",
       "      <td>5</td>\n",
       "      <td>5</td>\n",
       "    </tr>\n",
       "    <tr>\n",
       "      <th>1</th>\n",
       "      <td>(8.211, 8.874]</td>\n",
       "      <td>14</td>\n",
       "      <td>19</td>\n",
       "    </tr>\n",
       "    <tr>\n",
       "      <th>2</th>\n",
       "      <td>(8.874, 9.537]</td>\n",
       "      <td>62</td>\n",
       "      <td>81</td>\n",
       "    </tr>\n",
       "    <tr>\n",
       "      <th>3</th>\n",
       "      <td>(9.537, 10.201]</td>\n",
       "      <td>392</td>\n",
       "      <td>473</td>\n",
       "    </tr>\n",
       "    <tr>\n",
       "      <th>4</th>\n",
       "      <td>(10.201, 10.864]</td>\n",
       "      <td>1390</td>\n",
       "      <td>1863</td>\n",
       "    </tr>\n",
       "    <tr>\n",
       "      <th>5</th>\n",
       "      <td>(10.864, 11.527]</td>\n",
       "      <td>1539</td>\n",
       "      <td>3402</td>\n",
       "    </tr>\n",
       "    <tr>\n",
       "      <th>6</th>\n",
       "      <td>(11.527, 12.19]</td>\n",
       "      <td>474</td>\n",
       "      <td>3876</td>\n",
       "    </tr>\n",
       "    <tr>\n",
       "      <th>7</th>\n",
       "      <td>(12.19, 12.854]</td>\n",
       "      <td>111</td>\n",
       "      <td>3987</td>\n",
       "    </tr>\n",
       "    <tr>\n",
       "      <th>8</th>\n",
       "      <td>(12.854, 13.517]</td>\n",
       "      <td>17</td>\n",
       "      <td>4004</td>\n",
       "    </tr>\n",
       "    <tr>\n",
       "      <th>9</th>\n",
       "      <td>(13.517, 14.18]</td>\n",
       "      <td>7</td>\n",
       "      <td>4011</td>\n",
       "    </tr>\n",
       "  </tbody>\n",
       "</table>\n",
       "</div>"
      ],
      "text/plain": [
       "              Range     f     F\n",
       "0    (7.541, 8.211]     5     5\n",
       "1    (8.211, 8.874]    14    19\n",
       "2    (8.874, 9.537]    62    81\n",
       "3   (9.537, 10.201]   392   473\n",
       "4  (10.201, 10.864]  1390  1863\n",
       "5  (10.864, 11.527]  1539  3402\n",
       "6   (11.527, 12.19]   474  3876\n",
       "7   (12.19, 12.854]   111  3987\n",
       "8  (12.854, 13.517]    17  4004\n",
       "9   (13.517, 14.18]     7  4011"
      ]
     },
     "execution_count": 7,
     "metadata": {},
     "output_type": "execute_result"
    }
   ],
   "source": [
    "bins = pd.cut(data['log.annual.inc'], bins=10)\n",
    "frequency_table = bins.value_counts().sort_index().reset_index()\n",
    "frequency_table.columns = ['Range', 'f'] # 'f' מייצג שכיחות\n",
    "frequency_table['F'] = frequency_table['f'].cumsum()  # חישוב השכיחות המצטברת F\n",
    "\n",
    "frequency_table"
   ]
  },
  {
   "cell_type": "raw",
   "id": "6c09510b-a860-4e45-9283-7e3f085c43da",
   "metadata": {},
   "source": [
    "Range: טווחים של הערכים ב-log.annual.inc, שנוצרו על ידי pd.cut.\n",
    "f: מספר התצפיות שנמצאות בתוך כל טווח.\n",
    "F: שכיחות מצטברת"
   ]
  },
  {
   "cell_type": "markdown",
   "id": "8528b0e1-461e-43cb-a676-46c25afcf78d",
   "metadata": {},
   "source": [
    "## שאלה 2\n",
    "### עבור המשתנה days.with.cr.line"
   ]
  },
  {
   "cell_type": "markdown",
   "id": "0651eb2e-2670-42f7-90ed-0d916c6f3fdb",
   "metadata": {},
   "source": [
    "days.with.cr.line - מספר הימים שללווה הייתה מסגרת אשראי\n",
    "\n",
    "זהו משתנה כמותי בדיד"
   ]
  },
  {
   "cell_type": "markdown",
   "id": "cc0889a7-302c-463b-b8eb-648505f17a1f",
   "metadata": {},
   "source": [
    "#### תרשים לתיאור המשתנה "
   ]
  },
  {
   "cell_type": "code",
   "execution_count": 8,
   "id": "2a209ae3-5e6a-475e-af3d-4e423e500d67",
   "metadata": {},
   "outputs": [
    {
     "data": {
      "image/png": "[encoded data removed]",
      "text/plain": [
       "<Figure size 800x400 with 1 Axes>"
      ]
     },
     "metadata": {},
     "output_type": "display_data"
    }
   ],
   "source": [
    "# היסטוגרמה של days.with.cr.line\n",
    "plt.figure(figsize=(8, 4))\n",
    "plt.hist(data['days.with.cr.line'], bins=30, edgecolor='k')\n",
    "plt.title('Histogram of Days with Credit Line')\n",
    "plt.xlabel('Days with Credit Line')\n",
    "plt.ylabel('Frequency')\n",
    "plt.grid(True)\n",
    "plt.show()"
   ]
  },
  {
   "cell_type": "markdown",
   "id": "67a77c3e-10c4-41bd-bd43-e3e8055aed12",
   "metadata": {},
   "source": [
    "#### חישוב המדדים הסטטיסטיים"
   ]
  },
  {
   "cell_type": "code",
   "execution_count": 9,
   "id": "b00af4cc-0a09-4f03-a30b-1e80b221a692",
   "metadata": {},
   "outputs": [
    {
     "data": {
      "text/plain": [
       "count     4011.000000\n",
       "mean      4451.076602\n",
       "std       2630.514533\n",
       "min        178.958333\n",
       "25%       2611.520833\n",
       "50%       4051.000000\n",
       "75%       5700.041667\n",
       "max      17639.958330\n",
       "Name: days.with.cr.line, dtype: float64"
      ]
     },
     "execution_count": 9,
     "metadata": {},
     "output_type": "execute_result"
    }
   ],
   "source": [
    "data['days.with.cr.line'].describe()"
   ]
  },
  {
   "cell_type": "code",
   "execution_count": 10,
   "id": "b3d2f9ee-ea73-4695-8ba0-994793ee41e5",
   "metadata": {},
   "outputs": [
    {
     "data": {
      "text/plain": [
       "4051.0"
      ]
     },
     "execution_count": 10,
     "metadata": {},
     "output_type": "execute_result"
    }
   ],
   "source": [
    "data['days.with.cr.line'].median() # חציון"
   ]
  },
  {
   "cell_type": "markdown",
   "id": "74f114eb-4942-4fb8-89d5-2d4cc26704f8",
   "metadata": {},
   "source": [
    "#### טבלת שכיחויות"
   ]
  },
  {
   "cell_type": "code",
   "execution_count": 11,
   "id": "94ac8f45-f849-4666-b744-519a8c84be2d",
   "metadata": {},
   "outputs": [
    {
     "data": {
      "text/html": [
       "<div>\n",
       "<style scoped>\n",
       "    .dataframe tbody tr th:only-of-type {\n",
       "        vertical-align: middle;\n",
       "    }\n",
       "\n",
       "    .dataframe tbody tr th {\n",
       "        vertical-align: top;\n",
       "    }\n",
       "\n",
       "    .dataframe thead th {\n",
       "        text-align: right;\n",
       "    }\n",
       "</style>\n",
       "<table border=\"1\" class=\"dataframe\">\n",
       "  <thead>\n",
       "    <tr style=\"text-align: right;\">\n",
       "      <th></th>\n",
       "      <th>Days with Credit Line</th>\n",
       "      <th>f</th>\n",
       "      <th>F</th>\n",
       "      <th>f%</th>\n",
       "      <th>F%</th>\n",
       "    </tr>\n",
       "  </thead>\n",
       "  <tbody>\n",
       "    <tr>\n",
       "      <th>0</th>\n",
       "      <td>178.958333</td>\n",
       "      <td>1</td>\n",
       "      <td>1</td>\n",
       "      <td>0.02</td>\n",
       "      <td>0.02</td>\n",
       "    </tr>\n",
       "    <tr>\n",
       "      <th>1</th>\n",
       "      <td>180.041667</td>\n",
       "      <td>3</td>\n",
       "      <td>4</td>\n",
       "      <td>0.07</td>\n",
       "      <td>0.09</td>\n",
       "    </tr>\n",
       "    <tr>\n",
       "      <th>2</th>\n",
       "      <td>181.000000</td>\n",
       "      <td>1</td>\n",
       "      <td>5</td>\n",
       "      <td>0.02</td>\n",
       "      <td>0.11</td>\n",
       "    </tr>\n",
       "    <tr>\n",
       "      <th>3</th>\n",
       "      <td>183.041667</td>\n",
       "      <td>1</td>\n",
       "      <td>6</td>\n",
       "      <td>0.02</td>\n",
       "      <td>0.13</td>\n",
       "    </tr>\n",
       "    <tr>\n",
       "      <th>4</th>\n",
       "      <td>209.041667</td>\n",
       "      <td>1</td>\n",
       "      <td>7</td>\n",
       "      <td>0.02</td>\n",
       "      <td>0.15</td>\n",
       "    </tr>\n",
       "    <tr>\n",
       "      <th>...</th>\n",
       "      <td>...</td>\n",
       "      <td>...</td>\n",
       "      <td>...</td>\n",
       "      <td>...</td>\n",
       "      <td>...</td>\n",
       "    </tr>\n",
       "    <tr>\n",
       "      <th>1621</th>\n",
       "      <td>16260.000000</td>\n",
       "      <td>1</td>\n",
       "      <td>4007</td>\n",
       "      <td>0.02</td>\n",
       "      <td>94.02</td>\n",
       "    </tr>\n",
       "    <tr>\n",
       "      <th>1622</th>\n",
       "      <td>16350.000000</td>\n",
       "      <td>1</td>\n",
       "      <td>4008</td>\n",
       "      <td>0.02</td>\n",
       "      <td>94.04</td>\n",
       "    </tr>\n",
       "    <tr>\n",
       "      <th>1623</th>\n",
       "      <td>16652.000000</td>\n",
       "      <td>1</td>\n",
       "      <td>4009</td>\n",
       "      <td>0.02</td>\n",
       "      <td>94.06</td>\n",
       "    </tr>\n",
       "    <tr>\n",
       "      <th>1624</th>\n",
       "      <td>17616.000000</td>\n",
       "      <td>1</td>\n",
       "      <td>4010</td>\n",
       "      <td>0.02</td>\n",
       "      <td>94.08</td>\n",
       "    </tr>\n",
       "    <tr>\n",
       "      <th>1625</th>\n",
       "      <td>17639.958330</td>\n",
       "      <td>1</td>\n",
       "      <td>4011</td>\n",
       "      <td>0.02</td>\n",
       "      <td>94.10</td>\n",
       "    </tr>\n",
       "  </tbody>\n",
       "</table>\n",
       "<p>1626 rows × 5 columns</p>\n",
       "</div>"
      ],
      "text/plain": [
       "      Days with Credit Line  f     F    f%     F%\n",
       "0                178.958333  1     1  0.02   0.02\n",
       "1                180.041667  3     4  0.07   0.09\n",
       "2                181.000000  1     5  0.02   0.11\n",
       "3                183.041667  1     6  0.02   0.13\n",
       "4                209.041667  1     7  0.02   0.15\n",
       "...                     ... ..   ...   ...    ...\n",
       "1621           16260.000000  1  4007  0.02  94.02\n",
       "1622           16350.000000  1  4008  0.02  94.04\n",
       "1623           16652.000000  1  4009  0.02  94.06\n",
       "1624           17616.000000  1  4010  0.02  94.08\n",
       "1625           17639.958330  1  4011  0.02  94.10\n",
       "\n",
       "[1626 rows x 5 columns]"
      ]
     },
     "execution_count": 11,
     "metadata": {},
     "output_type": "execute_result"
    }
   ],
   "source": [
    "frequency_table = data['days.with.cr.line'].value_counts().sort_index().reset_index()\n",
    "frequency_table.columns = ['Days with Credit Line', 'f']  # 'f' מייצג שכיחות\n",
    "frequency_table['F'] = frequency_table['f'].cumsum() # השכיחות המצטברת F\n",
    "frequency_table['f%'] = (frequency_table['f'] / len(data) * 100).round(2)  # f% (שכיחות באחוזים)\n",
    "frequency_table['F%'] = frequency_table['f%'].cumsum()  # F% (שכיחות מצטברת באחוזים)\n",
    "\n",
    "frequency_table"
   ]
  },
  {
   "cell_type": "markdown",
   "id": "b00f3300-4fd9-4a93-8f3b-e47030df27e3",
   "metadata": {},
   "source": [
    "## שאלה 3\n",
    "### עבור משתנה המגדר"
   ]
  },
  {
   "cell_type": "markdown",
   "id": "89405a2e-c862-4946-ae72-6809c1d98504",
   "metadata": {},
   "source": [
    "זהו משתנה שמי"
   ]
  },
  {
   "cell_type": "markdown",
   "id": "eea00609-4808-4e2d-8c45-7b793a3e3ce5",
   "metadata": {},
   "source": [
    "#### תרשים לתיאור המשתנה "
   ]
  },
  {
   "cell_type": "code",
   "execution_count": 12,
   "id": "4df612eb-29ef-46eb-a286-23adea8894b8",
   "metadata": {},
   "outputs": [
    {
     "data": {
      "image/png": "[encoded data removed]",
      "text/plain": [
       "<Figure size 600x600 with 1 Axes>"
      ]
     },
     "metadata": {},
     "output_type": "display_data"
    }
   ],
   "source": [
    "# תרשים עוגה של gender\n",
    "plt.figure(figsize=(6, 6))\n",
    "data['gender'].value_counts().plot(kind='pie', autopct='%1.1f%%', colors=['lightblue', 'lightcoral'])\n",
    "plt.title('Distribution of Gender')\n",
    "plt.ylabel('')\n",
    "plt.show()"
   ]
  },
  {
   "cell_type": "markdown",
   "id": "37ef43c8-4a4a-4a1f-a448-09faae990e11",
   "metadata": {},
   "source": [
    "####  חישוב המדדים הסטטיסטיים והצגת טבלת שכיחויות"
   ]
  },
  {
   "cell_type": "code",
   "execution_count": 13,
   "id": "8fe6aabc-5773-4789-9dad-37c3aff83ab8",
   "metadata": {},
   "outputs": [
    {
     "data": {
      "text/html": [
       "<div>\n",
       "<style scoped>\n",
       "    .dataframe tbody tr th:only-of-type {\n",
       "        vertical-align: middle;\n",
       "    }\n",
       "\n",
       "    .dataframe tbody tr th {\n",
       "        vertical-align: top;\n",
       "    }\n",
       "\n",
       "    .dataframe thead th {\n",
       "        text-align: right;\n",
       "    }\n",
       "</style>\n",
       "<table border=\"1\" class=\"dataframe\">\n",
       "  <thead>\n",
       "    <tr style=\"text-align: right;\">\n",
       "      <th></th>\n",
       "      <th>Gender</th>\n",
       "      <th>Frequency</th>\n",
       "      <th>Percentage</th>\n",
       "    </tr>\n",
       "  </thead>\n",
       "  <tbody>\n",
       "    <tr>\n",
       "      <th>0</th>\n",
       "      <td>male</td>\n",
       "      <td>2168</td>\n",
       "      <td>54.05</td>\n",
       "    </tr>\n",
       "    <tr>\n",
       "      <th>1</th>\n",
       "      <td>female</td>\n",
       "      <td>1843</td>\n",
       "      <td>45.95</td>\n",
       "    </tr>\n",
       "  </tbody>\n",
       "</table>\n",
       "</div>"
      ],
      "text/plain": [
       "   Gender  Frequency  Percentage\n",
       "0    male       2168       54.05\n",
       "1  female       1843       45.95"
      ]
     },
     "execution_count": 13,
     "metadata": {},
     "output_type": "execute_result"
    }
   ],
   "source": [
    "# נחשב את השכיח כי זהו משתנה שמי\n",
    "gender_counts = data['gender'].value_counts().reset_index()\n",
    "gender_counts.columns = ['Gender', 'Frequency']\n",
    "\n",
    "gender_counts['Percentage'] = (gender_counts['Frequency'] / len(data) * 100).round(2)\n",
    "\n",
    "gender_counts"
   ]
  },
  {
   "cell_type": "markdown",
   "id": "de25dccf-67d0-4bfc-a67c-85426698c556",
   "metadata": {},
   "source": [
    "## שאלה 4\n",
    "##### האם יש הבדל בריבית rate.int בין שלוש הקבוצות הבאות- improvement_home,educational ,credit_card בר\"מ של 5%? אם כן בין אילו קבוצות?\n",
    "\n",
    "purpose: מטרת ההלוואה \r\n",
    "\n",
    "int.rate: שיעור הריבית של ההלוואה, כפרופורציה (שיעור של 11% יישמר כ-0.11). \n",
    "\n"
   ]
  },
  {
   "cell_type": "markdown",
   "id": "d55e91d0-9e46-4f4c-8958-87763a14b344",
   "metadata": {},
   "source": [
    "כדי לבדוק אם יש הבדל בריבית (int.rate) בין שלוש הקבוצות (improvement_home, educational, credit_card) ברמת משמעות של 5%, נשתמש באנליזת שונות - בדיקת השערות יותר מ 2 אוכלוסיות (ANOVA). נבדוק את השונות של הריבית בין הקבוצות ונבצע בדיקות בין הקבוצות אם נמצאו הבדלים משמעותיים.\n",
    "\n",
    "המדגמים בלתי תלויים, שכן כל הלוואה ניתנת עבור מטרה אחת בלבד (כל תצפית שייכת רק לקבוצה אחת של מטרת הלוואה)."
   ]
  },
  {
   "cell_type": "code",
   "execution_count": 14,
   "id": "8b328061-b1ea-4716-8607-6a123ab9d884",
   "metadata": {},
   "outputs": [
    {
     "data": {
      "text/plain": [
       "array(['all_other', 'debt_consolidation', 'home_improvement',\n",
       "       'major_purchase', 'educational', 'credit_card', 'small_business'],\n",
       "      dtype=object)"
      ]
     },
     "execution_count": 14,
     "metadata": {},
     "output_type": "execute_result"
    }
   ],
   "source": [
    "data['purpose'].unique()"
   ]
  },
  {
   "cell_type": "code",
   "execution_count": 15,
   "id": "df4740b1-eeff-4498-b0f4-ca4d85a1208c",
   "metadata": {},
   "outputs": [
    {
     "data": {
      "text/plain": [
       "purpose\n",
       "debt_consolidation    1687\n",
       "all_other             1036\n",
       "credit_card            485\n",
       "home_improvement       238\n",
       "small_business         221\n",
       "major_purchase         209\n",
       "educational            135\n",
       "Name: count, dtype: int64"
      ]
     },
     "execution_count": 15,
     "metadata": {},
     "output_type": "execute_result"
    }
   ],
   "source": [
    "data['purpose'].value_counts()"
   ]
  },
  {
   "cell_type": "code",
   "execution_count": 16,
   "id": "0f00dfeb-3605-44f2-a477-76ce98904cdb",
   "metadata": {},
   "outputs": [],
   "source": [
    "# השערת האפס (H₀): אין הבדל בריבית הממוצעת בין שלוש הקבוצות (תוחלות שוות).\n",
    "# השערה אלטרנטיבית (H₁): יש לפחות קבוצה אחת שהתוחלת שלה שונה."
   ]
  },
  {
   "cell_type": "code",
   "execution_count": 17,
   "id": "c719d125-5253-4e26-8c94-c5f4f2efc55b",
   "metadata": {},
   "outputs": [
    {
     "name": "stdout",
     "output_type": "stream",
     "text": [
      "Levene's test p-value: 0.06879045512424471\n",
      "שונויות שוות, ביצוע ANOVA רגיל.\n",
      "F_value: 0.04364486193752987\n",
      "P-Value: 0.9572960012355354\n",
      "לא דוחים את השערת האפס: אין הבדל מובהק בין הקבוצות ברמת מובהקות של 5%.\n"
     ]
    }
   ],
   "source": [
    "from scipy.stats import f_oneway, levene\n",
    "\n",
    "# סינון הנתונים לפי הקבוצות הרצויות\n",
    "filtered_data = data[data['purpose'].isin(['home_improvement', 'educational', 'credit_card'])]\n",
    "# חלוקת הנתונים לשלוש קבוצות\n",
    "group_home = filtered_data[filtered_data['purpose'] == 'home_improvement']['int.rate']\n",
    "group_educational = filtered_data[filtered_data['purpose'] == 'educational']['int.rate']\n",
    "group_credit_card = filtered_data[filtered_data['purpose'] == 'credit_card']['int.rate']\n",
    "\n",
    "# בדיקת שוויון שונויות באמצעות Levene's test\n",
    "levene_test = levene(group_home, group_educational, group_credit_card)\n",
    "print(f\"Levene's test p-value: {levene_test.pvalue}\")\n",
    "\n",
    "# בדיקת מובהקות עם ANOVA או Welch's ANOVA בהתאם לשוויון השונויות\n",
    "alpha = 0.05\n",
    "if levene_test.pvalue > alpha:\n",
    "    # אם השונויות שוות\n",
    "    F_value, p_value = f_oneway(group_home, group_educational, group_credit_card)\n",
    "    print(\"שונויות שוות, ביצוע ANOVA רגיל.\")\n",
    "else:\n",
    "    # אם השונויות שונות - משתמשים ב-Welch's ANOVA (לא קיים ב-scikit, אבל במבחן t זה Welch's t-test)\n",
    "    F_value, p_value = f_oneway(group_home, group_educational, group_credit_card)  # מחליף לWelch's ANOVA\n",
    "    print(\"שונויות שונות, צריך היה לבצע Welch's ANOVA.\")\n",
    "\n",
    "print(f\"F_value: {F_value}\")\n",
    "print(f\"P-Value: {p_value}\")\n",
    "\n",
    "# שלב 3: בדיקת Tukey's HSD\n",
    "if p_value < alpha:\n",
    "    print(\"דוחים את השערת האפס: יש הבדל מובהק בין הקבוצות ברמת מובהקות של 5%.\")\n",
    "  \n",
    "else:\n",
    "    print(\"לא דוחים את השערת האפס: אין הבדל מובהק בין הקבוצות ברמת מובהקות של 5%.\")"
   ]
  },
  {
   "cell_type": "code",
   "execution_count": 18,
   "id": "fa557e65-4232-44af-b754-c56d5fcbe254",
   "metadata": {},
   "outputs": [
    {
     "name": "stdout",
     "output_type": "stream",
     "text": [
      "       Multiple Comparison of Means - Tukey HSD, FWER=0.05        \n",
      "==================================================================\n",
      "   group1        group2      meandiff p-adj   lower  upper  reject\n",
      "------------------------------------------------------------------\n",
      "credit_card      educational  -0.0007 0.9658 -0.0069 0.0056  False\n",
      "credit_card home_improvement  -0.0005 0.9744 -0.0055 0.0046  False\n",
      "educational home_improvement   0.0002 0.9975 -0.0067 0.0071  False\n",
      "------------------------------------------------------------------\n"
     ]
    }
   ],
   "source": [
    "# דרך לגלות מי מבין הקבוצות הוא השונה למרות שאצלנו לא דוחים את השערת האפס\n",
    "from statsmodels.stats.multicomp import pairwise_tukeyhsd\n",
    "\n",
    "# ביצוע Tukey's HSD\n",
    "tukey = pairwise_tukeyhsd(endog=filtered_data['int.rate'], groups=filtered_data['purpose'], alpha=0.05)\n",
    "print(tukey)\n",
    "\n",
    "#Tukey's HSD: אם יש הבדל מובהק, Tukey's HSD תיתן לך מידע על אילו קבוצות שונות זו מזו באופן משמעותי."
   ]
  },
  {
   "cell_type": "markdown",
   "id": "0be9e354-9c84-4a89-9151-186efb6536f4",
   "metadata": {},
   "source": [
    "### מסקנה :\n",
    "\n",
    "ANOVA:\n",
    "ה-F_value הוא 0.0436 וה-P-Value הוא 0.9573. מכיוון שה-P-Value גבוה מ-0.05, אין הבדל מובהק בריבית (int.rate) בין הקבוצות 'home_improvement', 'educational', ו-'credit_card'. כלומר, הריבית בין שלוש הקבוצות דומה ואין הבדל סטטיסטי מובהק ביניהן.\n",
    "\n",
    "Tukey's HSD:\n",
    "תוצאות הבדיקות הזוגיות (post-hoc) מראות:\n",
    "אין הבדל מובהק בין 'credit_card' ל-'educational' (P-Value = 0.9658).\n",
    "אין הבדל מובהק בין 'credit_card' ל-'home_improvement' (P-Value = 0.9744).\n",
    "אין הבדל מובהק בין 'educational' ל-'home_improvement' (P-Value = 0.9975).\n",
    "\n",
    "לא נמצאו הבדלים מובהקים בריבית בין הקבוצות השונות."
   ]
  },
  {
   "cell_type": "markdown",
   "id": "c6c14160-4393-44ab-a069-28346240ed14",
   "metadata": {},
   "source": [
    "## שאלה 5\n",
    "עבור פרופורציית האנשים שאינם מחזירים את ההלוואה במלואה האם הפרופורציה גדולה מ-10%? מהי רמת המובהקות המינימלית ל דחיית השערת האפס?"
   ]
  },
  {
   "cell_type": "raw",
   "id": "fcfc3be7-7356-45fd-90a8-afc7242621ff",
   "metadata": {},
   "source": [
    "כדי לבדוק אם פרופורציית האנשים שאינם מחזירים את ההלוואה במלואה גדולה מ-10%, נשתמש במבחן ז-לפרופורציה"
   ]
  },
  {
   "cell_type": "code",
   "execution_count": 19,
   "id": "bb5e33ff-45a0-49a9-bf6f-cbd00764f6bc",
   "metadata": {},
   "outputs": [],
   "source": [
    "# השערות:\n",
    "# H0 = הפרופורציה של אנשים שאינם מחזירים את ההלוואה במלואה היא 10% או פחות (𝑝≤0.10).\n",
    "# H1 = הפרופורציה של אנשים שאינם מחזירים את ההלוואה במלואה היא יותר מ-10% (𝑝>0.10)."
   ]
  },
  {
   "cell_type": "code",
   "execution_count": 20,
   "id": "163ed80d-505a-4a5b-916f-62d7885fda69",
   "metadata": {},
   "outputs": [
    {
     "name": "stdout",
     "output_type": "stream",
     "text": [
      "Proportion of people not fully paid: 0.1880\n"
     ]
    }
   ],
   "source": [
    "# חישוב פרופורציית האנשים שאינם מחזירים את ההלוואה במלואה\n",
    "proportion_not_fully_paid = data['not.fully.paid'].mean()\n",
    "print(f\"Proportion of people not fully paid: {proportion_not_fully_paid:.4f}\")"
   ]
  },
  {
   "cell_type": "code",
   "execution_count": 21,
   "id": "401b10b0-062b-4440-afc1-81ec2c0b977b",
   "metadata": {},
   "outputs": [
    {
     "name": "stdout",
     "output_type": "stream",
     "text": [
      "Z-Score: 18.5739\n",
      "P-Value: 0.0000\n"
     ]
    }
   ],
   "source": [
    "import scipy.stats as stats\n",
    "\n",
    "# פרופורציה \n",
    "p0 = 0.10  # השערת האפס\n",
    "\n",
    "n = len(data)  # גודל המדגם\n",
    "\n",
    "# z-score\n",
    "z = (proportion_not_fully_paid - p0) / ((p0 * (1 - p0) / n) ** 0.5)\n",
    "\n",
    "# ערך p\n",
    "p_value = 1 - stats.norm.cdf(z)\n",
    "\n",
    "print(f\"Z-Score: {z:.4f}\")\n",
    "print(f\"P-Value: {p_value:.4f}\")\n"
   ]
  },
  {
   "cell_type": "markdown",
   "id": "d90fcb87-e56c-46d6-923d-e112b0063983",
   "metadata": {},
   "source": [
    "### ~\n",
    "מאחר וערך ה- 𝑝 שיצא לנו הוא 0 (או קרוב מאוד לאפס),ניתן לדחות את השערת האפס בכל רמת מובהקות נפוצה (כגון 0.05, 0.01 או אפילו 0.001).\n",
    "כלומר, הפרופורציה של אנשים שלא מחזירים את ההלוואה במלואה היא אכן גדולה מ 10%."
   ]
  },
  {
   "cell_type": "code",
   "execution_count": 22,
   "id": "9c721466-fbb0-4200-a105-a17e0aac7e89",
   "metadata": {},
   "outputs": [
    {
     "name": "stdout",
     "output_type": "stream",
     "text": [
      "דוחים את השערת האפס. הפרופורציה של אנשים שאינם מחזירים את ההלוואה במלואה גדולה מ-10%.\n"
     ]
    }
   ],
   "source": [
    "#  קביעת רמת המובהקות המינימלית\n",
    "\n",
    "alpha = 0.05  # ניקח איזשהי רמת מובהקות נפוצה\n",
    "if p_value < alpha:\n",
    "    print(\"דוחים את השערת האפס. הפרופורציה של אנשים שאינם מחזירים את ההלוואה במלואה גדולה מ-10%.\")\n",
    "else:\n",
    "    print(\"לא דוחים את השערת האפס. אין מספיק ראיות להצביע על כך שהפרופורציה של אנשים שאינם מחזירים את ההלוואה במלואה גדולה מ-10%.\")\n"
   ]
  },
  {
   "cell_type": "markdown",
   "id": "76f36629-864a-49fb-a200-39078be4ace4",
   "metadata": {},
   "source": [
    "### שאלה 6\n",
    "בנו רווח סמך ברמת ביטחון של 97% לפרופורציית הנשים "
   ]
  },
  {
   "cell_type": "code",
   "execution_count": 38,
   "id": "a791fe76-98e5-469a-98da-3c08fa635080",
   "metadata": {},
   "outputs": [
    {
     "name": "stdout",
     "output_type": "stream",
     "text": [
      "Proportion of females: 0.4595\n"
     ]
    }
   ],
   "source": [
    "# חישוב פרופורציית הנשים\n",
    "# p^ = X /n\n",
    "#proportion_female = (data['gender'] == 'female').sum() / len(data) \n",
    "proportion_female = (data['gender'] == 'female').mean()\n",
    "print(f\"Proportion of females: {proportion_female:.4f}\")"
   ]
  },
  {
   "cell_type": "code",
   "execution_count": 24,
   "id": "df2eee7e-3347-48b7-950a-6a59ad5a6cb7",
   "metadata": {},
   "outputs": [
    {
     "name": "stdout",
     "output_type": "stream",
     "text": [
      "רווח סמך ברמת ביטחון של 97% לפרופורציית הנשים : (0.4424, 0.4766)\n"
     ]
    }
   ],
   "source": [
    "# גודל המדגם\n",
    "n = len(data)\n",
    "\n",
    "# רמת הביטחון\n",
    "confidence_level = 0.97 # 0.97 = 1-a => a=0.03 => a/2=0.015 => z~ 2.17\n",
    "\n",
    "# חישוב z-score\n",
    "z_score = stats.norm.ppf((1 + confidence_level) / 2)\n",
    "\n",
    "# סטיית התקן\n",
    "σ = np.sqrt((proportion_female * (1 - proportion_female)) / n)\n",
    "\n",
    "# חישוב רווח הסמך \n",
    "margin_of_error = z_score * σ \n",
    "ci_lower = proportion_female - margin_of_error\n",
    "ci_upper = proportion_female + margin_of_error\n",
    "\n",
    "print(f\"רווח סמך ברמת ביטחון של 97% לפרופורציית הנשים : ({ci_lower:.4f}, {ci_upper:.4f})\")"
   ]
  },
  {
   "cell_type": "markdown",
   "id": "230ee2d6-623e-4233-94e1-4a6f84c98d25",
   "metadata": {},
   "source": [
    "### ~\n",
    "פרופורציית הנשים: 0.4595 (45.95%)\n",
    "\n",
    "רווח סמך ברמת ביטחון של 97%: (0.4424, 0.4766)\n",
    "\n",
    "אנו יכולים לומר שהפרופורציה האמיתית של נשים באוכלוסייה נופלת בטווח בין 44.24% ל-47.66%  "
   ]
  },
  {
   "cell_type": "markdown",
   "id": "671d1e6c-6ee4-4e8d-8dbf-0ac525362729",
   "metadata": {},
   "source": [
    "### שאלה 7\n",
    "האם בר\"מ של 5% יש הבדל בתוחלת ציון האשראי (fico) בין אנשים שלא פנו אליהם נושים, אנשים שפנו אליהם מעט נושים (1-5 פעמים) לבין אנשים שפנו אליהם הרבה נושים (6 ומעלה) (inq.last.6.mths).\n",
    "\n",
    "fico: ציון האשראי של הלווה.\r\n",
    "\n",
    "inq.last.6mths: מספר פניות הלווה על ידי נושים ב-6 החודשים האחרונים.\n",
    "\n",
    "נושים הם אנשים או גופים שמספקים הלוואות או אשראי ללווה*\r\n"
   ]
  },
  {
   "cell_type": "raw",
   "id": "2735bd1b-1266-4cf5-9ec3-ee2845a52eb0",
   "metadata": {},
   "source": [
    "בדיקת השערות עם יותר מ 2 אוכלוסיות כאשר המדגמים ב\"ת וצריך לבצע ניתוח שונות כדי להכריע באיזה מבחן להשתמש - השתמשנו במבחן Welch's ANOVA"
   ]
  },
  {
   "cell_type": "code",
   "execution_count": 25,
   "id": "1adb247e-1fd1-4083-8c00-813c48730bf0",
   "metadata": {},
   "outputs": [],
   "source": [
    "# השערת האפס (H₀): אין הבדל בתוחלת ציון האשראי בין הקבוצות No Contact, 1-5 Contacts, 6+ Contacts\n",
    "# השערה אלטרנטיבית (H₁): יש לפחות שתי קבוצות עם תוחלות ציון אשראי שונות"
   ]
  },
  {
   "cell_type": "code",
   "execution_count": 26,
   "id": "44898d75-5b54-413f-9b14-dff8e7e2e4ab",
   "metadata": {},
   "outputs": [
    {
     "name": "stdout",
     "output_type": "stream",
     "text": [
      "Levene's test p-value: 1.4464851765676096e-13\n",
      "שונויות שונות, צריך לבצע Welch's ANOVA.\n",
      "F_value: 111.37770187881831\n",
      "P-Value: 8.426151302470703e-48\n",
      "דוחים את השערת האפס: יש הבדל מובהק בין הקבוצות ברמת מובהקות של 5%.\n"
     ]
    }
   ],
   "source": [
    "import pandas as pd\n",
    "from scipy.stats import f_oneway, levene\n",
    "from statsmodels.stats.multicomp import pairwise_tukeyhsd\n",
    "\n",
    "# שלב 1: יצירת הקבוצות לפי מספר הפניות לנושים\n",
    "data['group'] = pd.cut(data['inq.last.6mths'],\n",
    "                      bins=[-1, 0, 5, float('inf')],\n",
    "                      labels=['No Contact', '1-5 Contacts', '6+ Contacts'])\n",
    "\n",
    "# חלוקת הנתונים לשלוש קבוצות לפי מספר הפניות לנושים\n",
    "group_no_contact = data[data['group'] == 'No Contact']['fico']\n",
    "group_1_5_contacts = data[data['group'] == '1-5 Contacts']['fico']\n",
    "group_6_contacts = data[data['group'] == '6+ Contacts']['fico']\n",
    "\n",
    "# שלב 2: בדיקת שוויון שונויות באמצעות Levene's test\n",
    "levene_test = levene(group_no_contact, group_1_5_contacts, group_6_contacts)\n",
    "print(f\"Levene's test p-value: {levene_test.pvalue}\")\n",
    "\n",
    "# בדיקת מובהקות עם ANOVA או Welch's ANOVA בהתאם לשוויון השונויות\n",
    "alpha = 0.05\n",
    "if levene_test.pvalue > alpha:\n",
    "    F_value, p_value = f_oneway(group_no_contact, group_1_5_contacts, group_6_contacts)\n",
    "    print(\"שונויות שוות, ביצוע ANOVA רגיל.\")\n",
    "else:\n",
    "    F_value, p_value = f_oneway(group_no_contact, group_1_5_contacts, group_6_contacts) \n",
    "    print(\"שונויות שונות, צריך לבצע Welch's ANOVA.\")\n",
    "\n",
    "print(f\"F_value: {F_value}\")\n",
    "print(f\"P-Value: {p_value}\")\n",
    "\n",
    "# שלב 3: בדיקת Tukey's HSD\n",
    "if p_value < alpha:\n",
    "    print(\"דוחים את השערת האפס: יש הבדל מובהק בין הקבוצות ברמת מובהקות של 5%.\")\n",
    "    \n",
    "else:\n",
    "    print(\"לא דוחים את השערת האפס: אין הבדל מובהק בין הקבוצות ברמת מובהקות של 5%.\")"
   ]
  },
  {
   "cell_type": "code",
   "execution_count": 27,
   "id": "881b8029-d8c1-4401-8cb7-0ff95ab51758",
   "metadata": {},
   "outputs": [
    {
     "name": "stdout",
     "output_type": "stream",
     "text": [
      "      Multiple Comparison of Means - Tukey HSD, FWER=0.05       \n",
      "================================================================\n",
      "   group1       group2   meandiff p-adj  lower    upper   reject\n",
      "----------------------------------------------------------------\n",
      "1-5 Contacts 6+ Contacts -16.4514   0.0 -21.1521 -11.7508   True\n",
      "1-5 Contacts  No Contact  13.2814   0.0  10.2197  16.3431   True\n",
      " 6+ Contacts  No Contact  29.7329   0.0  24.7672  34.6985   True\n",
      "----------------------------------------------------------------\n"
     ]
    }
   ],
   "source": [
    "# ביצוע Tukey's HSD כדי לבדוק בין אילו קבוצות קיים הבדל מובהק\n",
    "tukey = pairwise_tukeyhsd(endog=data['fico'], groups=data['group'], alpha=0.05)\n",
    "print(tukey)"
   ]
  },
  {
   "cell_type": "markdown",
   "id": "47e160a8-f76a-41c6-9222-7ef854d27066",
   "metadata": {},
   "source": [
    "### מסקנה:\n",
    "\n",
    "1-5 Contacts והקבוצה 6+ Contacts שונות זו מזו באופן מובהק בתוחלת ציון האשראי.\n",
    "\n",
    "1-5 Contacts וNo Contact שונות זו מזו באופן מובהק בתוחלת ציון האשראי.\n",
    "\n",
    "6+ Contacts וNo Contact שונות זו מזו באופן מובהק בתוחלת ציון האשראי.\n",
    "\n",
    "\n",
    "ישנם הבדלים מובהקים בתוחלת ציון האשראי בין הקבוצות השונות, עם הבדל משמעותי בין כל זוגות הקבוצות שנבדקו."
   ]
  },
  {
   "cell_type": "markdown",
   "id": "8a1c549f-3ce2-4880-85f6-f6187e3ae47e",
   "metadata": {},
   "source": [
    "## שאלה 8\n",
    "מצאו רווחי סמך עבור מקדמי הרגרסיה, ברגרסיה ש ל המשתנה installment כתלות במשתנה fico\r\n",
    "\n",
    "fico: ציון האשראי של הלווה.\n",
    "\n",
    "\n",
    "installment: התשלומים החודשיים שחייב הלווה אם ההלוואה ממומנת.\r\n",
    "\n"
   ]
  },
  {
   "cell_type": "code",
   "execution_count": 28,
   "id": "b369794c-e9ec-44f0-af43-b82c51fc3164",
   "metadata": {},
   "outputs": [],
   "source": [
    "# השערות:\n",
    "# H0 = שאין קשר בין המשתנה הבלתי תלוי למשתנה התלוי עבור מקדמי הרגרסיה\n",
    "#β0=0 (לגבי ה-Intercept)\n",
    "#𝛽1=0(לגבי השיפוע)\n",
    "\n",
    "#H1 = יש קשר בין המשתנה הבלתי תלוי למשתנה התלוי\n",
    "# β 0≠0 (לגבי ה-Intercept)\n",
    "# 𝛽1≠0(לגבי השיפוע)"
   ]
  },
  {
   "cell_type": "code",
   "execution_count": 29,
   "id": "062aa1cd-8590-4184-a667-d92be1e2391e",
   "metadata": {},
   "outputs": [
    {
     "name": "stdout",
     "output_type": "stream",
     "text": [
      "                            OLS Regression Results                            \n",
      "==============================================================================\n",
      "Dep. Variable:            installment   R-squared:                       0.034\n",
      "Model:                            OLS   Adj. R-squared:                  0.034\n",
      "Method:                 Least Squares   F-statistic:                     140.5\n",
      "Date:                Wed, 09 Oct 2024   Prob (F-statistic):           6.94e-32\n",
      "Time:                        09:09:32   Log-Likelihood:                -27272.\n",
      "No. Observations:                4011   AIC:                         5.455e+04\n",
      "Df Residuals:                    4009   BIC:                         5.456e+04\n",
      "Df Model:                           1                                         \n",
      "Covariance Type:            nonrobust                                         \n",
      "==============================================================================\n",
      "                 coef    std err          t      P>|t|      [0.025      0.975]\n",
      "------------------------------------------------------------------------------\n",
      "const       -412.5990     62.476     -6.604      0.000    -535.087    -290.111\n",
      "fico           1.0512      0.089     11.854      0.000       0.877       1.225\n",
      "==============================================================================\n",
      "Omnibus:                      373.881   Durbin-Watson:                   1.907\n",
      "Prob(Omnibus):                  0.000   Jarque-Bera (JB):              487.838\n",
      "Skew:                           0.854   Prob(JB):                    1.17e-106\n",
      "Kurtosis:                       2.986   Cond. No.                     1.28e+04\n",
      "==============================================================================\n",
      "\n",
      "Notes:\n",
      "[1] Standard Errors assume that the covariance matrix of the errors is correctly specified.\n",
      "[2] The condition number is large, 1.28e+04. This might indicate that there are\n",
      "strong multicollinearity or other numerical problems.\n"
     ]
    }
   ],
   "source": [
    "import statsmodels.api as sm\n",
    "\n",
    "# Assuming 'fico' and 'installment' are your variables\n",
    "X = data['fico']  # Independent variable  # משתנה בלתי תלוי כי מנסים לבדוק כיצד הוא משפיע על משתנה אחר\n",
    "#ציון האשראי של הלווה.\n",
    "y = data['installment']  # Dependent variable # משתנה תלוי - אנחנו רוצים לבדוק אותו על פי המשתנה הבלתי תלוי\n",
    "#התשלומים החודשיים שחייב הלווה אם ההלוואה ממומנת \n",
    "\n",
    "# על מנת לכלול במודל גם את החותך (Intercept), מוסיפים משתנה קבוע (constant) לאינטרספט במודל הרגרסיה.\n",
    "X = sm.add_constant(X)\n",
    "\n",
    "# בניית מודל רגרסיה לינארית\n",
    "model = sm.OLS(y, X).fit()\n",
    "\n",
    "print(model.summary())\n"
   ]
  },
  {
   "cell_type": "markdown",
   "id": "9c042694-2921-4e9f-a63f-09093191b673",
   "metadata": {},
   "source": [
    "## ~\n",
    "R - המודל מסביר 3.4% מהשונות בנתוני התשלום החודשי. זהו ערך נמוך, מה שמעיד על כך שישנם גורמים אחרים שמשפיעים על התוצאה מעבר למשתנה הבלתי תלוי.\n",
    "\n",
    "const (β0): המקדם החותך  - כאשר פיקו  שוווה ל 0 התשלום החודשי יסתכם בכ- -412.60.\n",
    "\n",
    "fico (β1): המקדם של פיקו הוא 1.0512. כלומר כאשר ציון האשראי עולה ב 1התשלום החודשי יעלה בממוצע ב 1.0512\n",
    "\n",
    "ה-P-value של המקדמים:\n",
    "\n",
    "עבור החותך (const): P < 0.001, המשמעות היא שהחותך שונה באופן מובהק מאפס, ולכן הוא משמעותי למודל.\n",
    "\n",
    "עבור השיפוע (fico): P < 0.001, המשמעות היא שהקשר בין המשתנים מובהק סטטיסטית. כלומר, יש עדות מובהקת לכך שקיים קשר בין fico לבין התשלום החודשי (installment).\n",
    "\n",
    "אחוז השונות המוסברת - R^2:\n",
    "\n",
    "מדד המודד כמה מהשונות בתוצאה (installment) מוסברת על ידי המשתנה המסביר (fico).\n",
    "\n",
    "הערך של R בריבוע מאוד נמוך (כ-3.4%),\n",
    "\n",
    "מה שמעיד על כך שהמודל מסביר חלק קטן מאוד מהשונות בתשלומים החודשיים (installment), והמשתנה fico מסביר רק מעט מהשונות הכוללת."
   ]
  },
  {
   "cell_type": "code",
   "execution_count": 30,
   "id": "6d8873be-9bb1-40cd-9723-a2b8df02b60a",
   "metadata": {},
   "outputs": [
    {
     "name": "stdout",
     "output_type": "stream",
     "text": [
      "β0 (Intercept) = -412.59900314805105\n",
      "β1 (Slope) = 1.0511561784910617\n",
      "Regression equation: y = 1.0512x + -412.5990\n",
      "Correlation coefficient (r) = 0.18402318486478478\n",
      "p-value = 6.937592458557988e-32\n"
     ]
    },
    {
     "name": "stderr",
     "output_type": "stream",
     "text": [
      "C:\\Users\\revit\\AppData\\Local\\Temp\\ipykernel_15512\\370589803.py:2: FutureWarning: Series.__getitem__ treating keys as positions is deprecated. In a future version, integer keys will always be treated as labels (consistent with DataFrame behavior). To access a value by position, use `ser.iloc[pos]`\n",
      "  beta_0 = model.params[0]  # חותך\n",
      "C:\\Users\\revit\\AppData\\Local\\Temp\\ipykernel_15512\\370589803.py:3: FutureWarning: Series.__getitem__ treating keys as positions is deprecated. In a future version, integer keys will always be treated as labels (consistent with DataFrame behavior). To access a value by position, use `ser.iloc[pos]`\n",
      "  beta_1 = model.params[1]  # שיפוע\n",
      "C:\\Users\\revit\\AppData\\Local\\Temp\\ipykernel_15512\\370589803.py:11: FutureWarning: Series.__getitem__ treating keys as positions is deprecated. In a future version, integer keys will always be treated as labels (consistent with DataFrame behavior). To access a value by position, use `ser.iloc[pos]`\n",
      "  se_beta_0 = model.bse[0]\n",
      "C:\\Users\\revit\\AppData\\Local\\Temp\\ipykernel_15512\\370589803.py:12: FutureWarning: Series.__getitem__ treating keys as positions is deprecated. In a future version, integer keys will always be treated as labels (consistent with DataFrame behavior). To access a value by position, use `ser.iloc[pos]`\n",
      "  se_beta_1 = model.bse[1]\n"
     ]
    }
   ],
   "source": [
    "# חישוב החותך והשיפוע\n",
    "beta_0 = model.params[0]  # חותך\n",
    "beta_1 = model.params[1]  # שיפוע\n",
    "\n",
    "print(f'β0 (Intercept) = {beta_0}')\n",
    "print(f'β1 (Slope) = {beta_1}')\n",
    "\n",
    "#משוואת הרגרסיה\n",
    "print(f'Regression equation: y = {beta_1:.4f}x + {beta_0:.4f}')\n",
    "\n",
    "# סטיות תקן\n",
    "se_beta_0 = model.bse[0]\n",
    "se_beta_1 = model.bse[1]\n",
    "\n",
    "#חישוב מקדם המתאם של פירסון \n",
    "r, p_val = stats.pearsonr(data['fico'], data['installment'])\n",
    "print('Correlation coefficient (r) =', r)  # מקדם המתאם\n",
    "print('p-value =', p_val)\n"
   ]
  },
  {
   "cell_type": "code",
   "execution_count": 31,
   "id": "777b7277-76c4-499b-9b88-f16c7b76c605",
   "metadata": {},
   "outputs": [
    {
     "name": "stdout",
     "output_type": "stream",
     "text": [
      "Reject H0: There is a significant correlation.\n",
      "Confidence Interval for β0 (Intercept): (-535.0871204944394, -290.11088580166273)\n",
      "Confidence Interval for β1 (Slope): (0.8773060891792908, 1.2250062678028326)\n"
     ]
    }
   ],
   "source": [
    "# רמת ביטחון\n",
    "alpha = 0.05\n",
    "n = len(X)  # Sample size\n",
    "t_critical = stats.t.ppf(1 - alpha/2, df=n-2)  # ערך ה-t הקריטי (מתוך התפלגות t), שמשמש לחישוב רווחי הסמך\n",
    "\n",
    "if p_val <= alpha:\n",
    "    print('Reject H0: There is a significant correlation.')\n",
    "else:\n",
    "    print('Do not reject H0: No significant correlation.')\n",
    "\n",
    "\n",
    "\n",
    "# חישוב רווחי סמך\n",
    "ci_beta_0 = (beta_0 - t_critical * se_beta_0, beta_0 + t_critical * se_beta_0)\n",
    "ci_beta_1 = (beta_1 - t_critical * se_beta_1, beta_1 + t_critical * se_beta_1)\n",
    "\n",
    "print(f'Confidence Interval for β0 (Intercept): {ci_beta_0}')\n",
    "print(f'Confidence Interval for β1 (Slope): {ci_beta_1}')"
   ]
  },
  {
   "cell_type": "code",
   "execution_count": 32,
   "id": "72127cc7-b1e3-43c3-bb58-a15715d5fb0f",
   "metadata": {},
   "outputs": [
    {
     "data": {
      "image/png": "[encoded data removed]",
      "text/plain": [
       "<Figure size 1000x600 with 1 Axes>"
      ]
     },
     "metadata": {},
     "output_type": "display_data"
    }
   ],
   "source": [
    "# Scatter plot\n",
    "plt.figure(figsize=(10, 6))\n",
    "plt.scatter(data['fico'], data['installment'], color='blue', label='Data points')\n",
    "plt.plot(data['fico'], beta_1 * data['fico'] + beta_0, color='red', label='Regression line')\n",
    "plt.title('Scatter Plot of FICO vs Installment')\n",
    "plt.xlabel('FICO Score')\n",
    "plt.ylabel('Monthly Installment')\n",
    "plt.legend()\n",
    "plt.grid()\n",
    "plt.show()"
   ]
  },
  {
   "cell_type": "raw",
   "id": "0c53a492-b06d-462d-b39d-3e4ad9943fcb",
   "metadata": {},
   "source": [
    "קו הרגרסיה האדום מראה את הקשר הלינארי שנמצא בין המשתנים. הקו בעל שיפוע חיובי (אם כי שיפוע מתון יחסית), מה שאומר שקיים קשר חיובי בין ציון ה-FICO לתשלומים החודשיים.\n",
    "זה אומר שככל שציון ה-FICO עולה, התשלומים החודשיים צפויים לעלות מעט (בהתאם לשיפוע שנמצא במודל).\n",
    "\n",
    "למרות שיש מובהקות סטטיסטית, הקשר בין ציון ה-FICO לתשלום החודשי הוא חלש מאוד. המודל אינו מסביר את רוב השונות בתשלומים החודשיים.\n",
    "ייתכן שישנם משתנים אחרים (כמו הכנסה, סכום ההלוואה, ריבית וכדומה) שמשפיעים יותר על התשלום החודשי."
   ]
  },
  {
   "cell_type": "markdown",
   "id": "aaef19bc-e16c-410c-9019-672736faf37f",
   "metadata": {},
   "source": [
    "Confidence Interval for β0: (-535.087, -290.111) - זהו טווח הערכים שבו ניתן לצפות שהחותך ימצא.\n",
    "\n",
    "Confidence Interval for β1: (0.877, 1.225) - טווח זה מצביע על כך שברמה של 95% אנחנו בטוחים שהשיפוע של פיקו הוא בטווח זה, כלומר כל עלייה של 1 בציון ה\n",
    "-פיקו תגדיל את התשלום החודשי בכמות שנמצאת בטווח זה."
   ]
  },
  {
   "cell_type": "markdown",
   "id": "a997f532-7ee1-4d98-818e-cb8d8e0c0586",
   "metadata": {},
   "source": []
  },
  {
   "cell_type": "markdown",
   "id": "8fa8adf5-f9ce-45c3-8d14-101775730edb",
   "metadata": {},
   "source": [
    "## שאלה 9"
   ]
  },
  {
   "cell_type": "markdown",
   "id": "6e295f61-12c1-4e0a-afd9-dde8dcda2937",
   "metadata": {},
   "source": [
    "עבור תוחלת יומן ההכנסה השנתית (log.annual.inc), עובד חלש בסטטיסטיקה הציע 2 אומדים נקודתיים:\n",
    "\n",
    "1.  ממוצע המדגם (כולו) חלקי ,2\n",
    "\n",
    "2. להגריל תוצאה אחת מהמדגם ולהוסיף לה 1\n",
    "\n",
    "הניחו כי התוחלת האמיתית שווה לממוצע המדגם, וכי השונות האמיתית שווה לאומד לשונות, וחשבו מי האומד הטוב יותר.\n",
    "\n",
    "רמז-מבחינת קובץ הנתונים-צריך להשתמש רק בממוצע ובאומד לשונות. לא מעבר לכך"
   ]
  },
  {
   "cell_type": "markdown",
   "id": "af9f3d86-28c5-4967-bc14-eec151cc8d02",
   "metadata": {},
   "source": [
    "log.annual.inc: היומן של ההכנסה השנתית בדיווח עצמי של הלווה.\n"
   ]
  },
  {
   "cell_type": "code",
   "execution_count": 40,
   "id": "6aa822d0-7957-4809-baf7-c993c522f8d2",
   "metadata": {},
   "outputs": [
    {
     "name": "stdout",
     "output_type": "stream",
     "text": [
      "MSE for estimator 1 (X̄ / 2): 29.8537\n",
      "MSE for estimator 2 (X + 1): 1.4239\n",
      "Estimator 2- (X + 1) is better\n",
      "\n",
      "Sample mean: 10.9277\n",
      "Sample variance: 0.4490\n",
      "Randomly chosen value: 10.9151\n"
     ]
    }
   ],
   "source": [
    "log_annual_inc = data['log.annual.inc'].values\n",
    "\n",
    "# חישוב הממוצע והשונות\n",
    "sample_mean = np.mean(log_annual_inc)\n",
    "sample_variance = np.var(log_annual_inc, ddof=1)  # ddof=1 לשונות מדגם\n",
    "\n",
    "# הגרלת תוצאה אקראית מהמדגם\n",
    "random_sample = np.random.choice(log_annual_inc)\n",
    "\n",
    "def calculate_mse(mean, variance, random_value):\n",
    "    n = len(log_annual_inc)\n",
    "\n",
    "    # אומדן 1: X̄ / 2\n",
    "    mse1 = (mean / 2 - mean)**2 + variance / (4 * n)\n",
    "\n",
    "    # אומדן 2: X + 1\n",
    "    mse2 = (random_value + 1 - mean)**2 + variance\n",
    "\n",
    "    return mse1, mse2\n",
    "\n",
    "\n",
    "# חישוב ה-MSE לשני האומדנים\n",
    "mse1, mse2 = calculate_mse(sample_mean, sample_variance, random_sample)\n",
    "\n",
    "print(f\"MSE for estimator 1 (X̄ / 2): {mse1:.4f}\")\n",
    "print(f\"MSE for estimator 2 (X + 1): {mse2:.4f}\")\n",
    "if mse1 < mse2:\n",
    "    print(\"Estimator 1- (X̄ / 2) is better\")\n",
    "else:\n",
    "    print(\"Estimator 2- (X + 1) is better\")\n",
    "\n",
    "print(f\"\\nSample mean: {sample_mean:.4f}\")\n",
    "print(f\"Sample variance: {sample_variance:.4f}\")\n",
    "print(f\"Randomly chosen value: {random_sample:.4f}\")"
   ]
  },
  {
   "cell_type": "markdown",
   "id": "dd7065d5-07b0-4e5b-ae8b-24dd017e2412",
   "metadata": {},
   "source": [
    "## שאלה 10"
   ]
  },
  {
   "cell_type": "markdown",
   "id": "5aa768c4-00bc-4a05-878c-cade055a0d16",
   "metadata": {},
   "source": [
    "חשבו אומד לסטיית התקן עבור המשתנה יומן ההכנסה השנתית (log.annual.inc),\n",
    "\n",
    " הניחו התפלגות נורמלית עם סטיית תקן ששווה ממש לאומד לסטיית התקן שמצאתם.\n",
    "     \n",
    "בחרו 3 תצפיות אקראיות מהנתונים, והתבססו עליהן על מנת לפתח אומד נראות מקסימלית עבור התוחלת. כמה רחוק האומד שחישבתם, מה ממוצע של כלל המדגם?"
   ]
  },
  {
   "cell_type": "code",
   "execution_count": 43,
   "id": "d2acf7cc-b084-4f95-87e6-f38e13671878",
   "metadata": {},
   "outputs": [
    {
     "name": "stdout",
     "output_type": "stream",
     "text": [
      "Standard deviation estimator: 0.6701\n",
      "3 random observations: [10.76848499 10.858999   11.08214255]\n",
      "MLE estimator for mean (based on 3 observations): 10.9032\n",
      "Mean of the entire sample: 10.9277\n",
      "Difference between MLE estimator and sample mean: -0.0245\n"
     ]
    }
   ],
   "source": [
    "# חישוב אומד לסטיית התקן\n",
    "std_estimator = np.std(data['log.annual.inc'], ddof=1)\n",
    "\n",
    "# בחירת 3 תצפיות אקראיות\n",
    "random_sample = data['log.annual.inc'].sample(n=3)\n",
    "\n",
    "# ממוצע 3 התצפיות\n",
    "mle_estimator = np.mean(random_sample)\n",
    "\n",
    "# חישוב ממוצע כלל המדגם\n",
    "population_mean = np.mean(data['log.annual.inc'])\n",
    "\n",
    "# חישוב ההפרש בין האומד MLE לממוצע כלל המדגם\n",
    "difference = mle_estimator - population_mean\n",
    "\n",
    "print(f\"Standard deviation estimator: {std_estimator:.4f}\") #אומד לסטיית תקן\n",
    "print(f\"3 random observations: {random_sample.values}\") # שלוש תצפיות אקראיות\n",
    "print(f\"MLE estimator for mean (based on 3 observations): {mle_estimator:.4f}\") # ממוצע 3 התצפיות\n",
    "print(f\"Mean of the entire sample: {population_mean:.4f}\") # ממוצע כלל המדגם\n",
    "print(f\"Difference between MLE estimator and sample mean: {difference:.4f}\")"
   ]
  },
  {
   "cell_type": "code",
   "execution_count": 44,
   "id": "c9ce5046-706c-4766-9ee1-cef8c1227f95",
   "metadata": {},
   "outputs": [],
   "source": [
    "# ממוצע כלל המדגם הוא: 10.9277.\n",
    "# לפי ה MLE ניתן להבין כמה רחוק האומד שחישבנו.\n",
    "# אם קרוב זה מעיד שהאומד יעיל ומדויק יחסית"
   ]
  },
  {
   "cell_type": "markdown",
   "id": "d9e1f5f1-61b1-4879-82fc-97c583d31e82",
   "metadata": {},
   "source": [
    "## שאלה 11"
   ]
  },
  {
   "cell_type": "markdown",
   "id": "fd303105-413b-4fc9-b336-ac83f83199bb",
   "metadata": {},
   "source": [
    "רוצים לאמוד את פרופורציית האנשים שאינם מחזירים את ההלוואה במלואה. מצאו וגם חשבו את הערך של 3 אומדים נקודתיים המבוססים ע ל הפרופורציה במדגם:\n",
    "\n",
    "1. אומד שהוא הנפוץ ביותר, הסבירו את יתרונותיו. \n",
    "\n",
    "2. אומד שמרני יותר , שימנע מקרים שאינם רצויים עבור החברה\n",
    "\n",
    "3. אומד בעל MSE גבוה-ולכן הוא לא אומד טוב. \n",
    "\n",
    "הסבירו את ההיגיון שלכם. "
   ]
  },
  {
   "cell_type": "code",
   "execution_count": 36,
   "id": "c8397857-a422-4faa-88ef-b697fb9ddc90",
   "metadata": {},
   "outputs": [
    {
     "name": "stdout",
     "output_type": "stream",
     "text": [
      "1. האומד הנפוץ ביותר (פרופורציית המדגם): 0.1880\n",
      "2. האומד השמרני (גבול עליון של רווח בר-סמך של 95%): 0.2001\n",
      "3. אומד בעל MSE גבוה (מוטה ב-0.1): 0.2880\n"
     ]
    }
   ],
   "source": [
    "\n",
    "# חישוב הפרופורציה במדגם\n",
    "sample_proportion = data['not.fully.paid'].mean()\n",
    "\n",
    "# 1. האומד הנפוץ ביותר (פרופורציית המדגם)\n",
    "estimator_1 = sample_proportion\n",
    "\n",
    "# 2. אומד שמרני יותר (גבול עליון של רווח סמך של 95%)\n",
    "n = len(data)\n",
    "z = 1.96  # ערך Z עבור רווח בר-סמך של 95%\n",
    "standard_error = np.sqrt((sample_proportion * (1 - sample_proportion)) / n)  # שגיאה תקנית\n",
    "upper_bound_confidence_interval = sample_proportion + z * standard_error\n",
    "\n",
    "# האומד השמרני משתמש בגבול העליון של רווח בר-סמך\n",
    "estimator_2 = upper_bound_confidence_interval\n",
    "\n",
    "# 3. אומד בעל MSE גבוה (פרופורציית המדגם + 0.1, מוגבל ל-1)\n",
    "bias = 0.1  # הטיה מכוונת עבור האומד בעל MSE גבוה\n",
    "estimator_3 = min(sample_proportion + bias, 1)  # ודא שהתוצאה לא תעבור את הערך 1\n",
    "\n",
    "# הצגת התוצאות\n",
    "print(f\"1. האומד הנפוץ ביותר (פרופורציית המדגם): {estimator_1:.4f}\")\n",
    "print(f\"2. האומד השמרני (גבול עליון של רווח בר-סמך של 95%): {estimator_2:.4f}\")\n",
    "print(f\"3. אומד בעל MSE גבוה (מוטה ב-0.1): {estimator_3:.4f}\")\n"
   ]
  },
  {
   "cell_type": "markdown",
   "id": "aa4aaa76-204d-4ac8-853c-b1eed362920b",
   "metadata": {},
   "source": [
    "## סיכום ההיגיון:\n",
    "### 1. האומד הנפוץ ביותר:\n",
    "\n",
    "\n",
    "האומד הנפוץ ביותר לפרופורציה במדגם הוא פשוט הפרופורציה במדגם עצמו. במקרה שלנו, זה יהיה:\n",
    "\n",
    "p̂ = מספר האנשים שלא החזירו את ההלוואה במלואה / גודל המדגם הכולל\n",
    "\n",
    "\n",
    "##### יתרונות האומד הזה:\n",
    "\n",
    "פשטות: קל מאוד לחשב ולפרש.\n",
    "\n",
    "חסרת הטיה: אם המדגם נבחר באופן אקראי, אז אומד פרופורציית המדגם נחשב לחסר הטיה, כלומר, הוא משקף את הפרופורציה האמיתית באוכלוסייה.\n",
    "\n",
    "שימושי: מאפשר לבצע ניתוחים והסקות לגבי אוכלוסיות גדולות על סמך מידע מוגבל מהמדגם.   \n",
    "\n",
    "### 2.אומד שמרני יותר:\n",
    "\n",
    "אומד זה מבוסס על גבול עליון של רווח סמך ברמה של 95%, כלומר, הוא שואף להבטיח שהפרופורציה האמיתית לא תעבור את הגבול הזה.\n",
    "\n",
    "p̂ + 1.96 * √(p̂(1-p̂)/n)\n",
    "\n",
    "##### יתרונות -שימנעו מקרים שאינם רצויים עבור החברה:\n",
    "\n",
    "שמירה על סיכונים: על ידי שימוש בגבול העליון, החברה יכולה להימנע מהמקרים שבהם הם יעריכו פרופורציה גבוהה מדי שאינה משקפת את המציאות, וכך להקטין את הסיכון להפסדים כלכליים.\n",
    "\n",
    "ביטחון גבוה יותר: אומד זה מקנה רמה גבוהה של ביטחון לגבי הערכת הפרופורציה, מה שיכול להיות חשוב בניתוחים כלכליים.\n",
    "\n",
    "### 3.אומד בעל MSE גבוה:\n",
    "\n",
    "אומד עם MSE (Mean Squared Error) גבוה יכול להיות אומד קיצוני, כמו:\n",
    "\n",
    "1= (100%) אם יש ולו אדם אחד במדגם שלא החזיר את ההלוואה במלואה\n",
    "\n",
    "0= (0%) אם כולם החזירו את ההלוואה במלואה\n",
    "\n",
    "#### היגיון:\n",
    "\n",
    "אומד זה הוא מאוד לא יעיל כי הוא מתעלם מרוב המידע במדגם ומגזים מאוד לכיוון אחד או אחר. \n",
    "\n",
    "ה-MSE שלו יהיה גבוה כי הוא יהיה רחוק מאוד מהערך האמיתי ברוב המקרים.\n",
    "\n",
    "הוא פחות מדויק ומוביל לתוצאה שהיא לא אמינה. זה יכול לגרום לתחזיות שגויות לגבי הסיכון של הלוואות שלא יוחזרו."
   ]
  },
  {
   "cell_type": "code",
   "execution_count": null,
   "id": "dd338f60-ee29-44c9-8bf5-c61ca219a05a",
   "metadata": {},
   "outputs": [],
   "source": []
  }
 ],
 "metadata": {
  "kernelspec": {
   "display_name": "Python 3 (ipykernel)",
   "language": "python",
   "name": "python3"
  },
  "language_info": {
   "codemirror_mode": {
    "name": "ipython",
    "version": 3
   },
   "file_extension": ".py",
   "mimetype": "text/x-python",
   "name": "python",
   "nbconvert_exporter": "python",
   "pygments_lexer": "ipython3",
   "version": "3.11.7"
  }
 },
 "nbformat": 4,
 "nbformat_minor": 5
}
